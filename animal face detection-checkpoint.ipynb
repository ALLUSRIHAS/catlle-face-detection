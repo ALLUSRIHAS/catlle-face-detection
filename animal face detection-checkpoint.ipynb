{
 "cells": [
  {
   "cell_type": "code",
   "execution_count": 33,
   "id": "4b69064c",
   "metadata": {},
   "outputs": [],
   "source": [
    "# import model building libraries\n",
    "from tensorflow.keras.models import Sequential\n",
    "from tensorflow.keras.layers import Dense\n",
    "from tensorflow.keras.layers import Convolution2D\n",
    "from tensorflow.keras.layers import MaxPooling2D\n",
    "from tensorflow.keras.layers import Flatten\n"
   ]
  },
  {
   "cell_type": "code",
   "execution_count": 34,
   "id": "056ae0ec",
   "metadata": {},
   "outputs": [],
   "source": [
    "#image preprocessing\n",
    "\n",
    "from keras.preprocessing.image import ImageDataGenerator\n",
    "\n",
    "\n",
    "\n"
   ]
  },
  {
   "cell_type": "code",
   "execution_count": 35,
   "id": "3dc31295",
   "metadata": {},
   "outputs": [],
   "source": [
    "train_datagen=ImageDataGenerator(rescale=1./255,shear_range=0.2,zoom_range=0.2,horizontal_flip=True)\n",
    "test_datagen=ImageDataGenerator(rescale=1./255)"
   ]
  },
  {
   "cell_type": "code",
   "execution_count": 36,
   "id": "7e290b57",
   "metadata": {},
   "outputs": [
    {
     "name": "stdout",
     "output_type": "stream",
     "text": [
      "Found 1238 images belonging to 4 classes.\n",
      "Found 326 images belonging to 4 classes.\n"
     ]
    }
   ],
   "source": [
    "#3.Apply image data generator functionality to train and test images\n",
    "x_train=train_datagen.flow_from_directory(r'C:\\Users\\HP\\Desktop\\dataset\\Training',target_size=(64,64),batch_size=32,class_mode=\"categorical\")\n",
    "x_test = test_datagen.flow_from_directory(r'C:\\Users\\HP\\Desktop\\dataset\\Testing',target_size = (64,64),batch_size = 32 , class_mode=\"categorical\")"
   ]
  },
  {
   "cell_type": "code",
   "execution_count": 37,
   "id": "80052242",
   "metadata": {},
   "outputs": [
    {
     "name": "stdout",
     "output_type": "stream",
     "text": [
      "{'bears': 0, 'crows': 1, 'elephants': 2, 'rats': 3}\n"
     ]
    }
   ],
   "source": [
    "print(x_train.class_indices)"
   ]
  },
  {
   "cell_type": "code",
   "execution_count": 38,
   "id": "8b0a3c4d",
   "metadata": {},
   "outputs": [],
   "source": [
    "#model building\n",
    "\n",
    "#2.initializing the model\n",
    "model=Sequential()\n",
    "\n"
   ]
  },
  {
   "cell_type": "code",
   "execution_count": 39,
   "id": "ca58b226",
   "metadata": {},
   "outputs": [],
   "source": [
    "\n",
    "\n",
    "#3.add convolution layer(no.of filters,size of filter,input shape)\n",
    "model.add(Convolution2D(12,(3,3),input_shape=(64,64,3),activation=\"relu\"))\n",
    "\n"
   ]
  },
  {
   "cell_type": "code",
   "execution_count": 40,
   "id": "1b567484",
   "metadata": {},
   "outputs": [],
   "source": [
    "model.add(MaxPooling2D(pool_size=(2,2)))"
   ]
  },
  {
   "cell_type": "code",
   "execution_count": 41,
   "id": "844b9c62",
   "metadata": {},
   "outputs": [],
   "source": [
    "#input of ann is flatten layer\n",
    "model.add(Flatten())"
   ]
  },
  {
   "cell_type": "code",
   "execution_count": 42,
   "id": "91511b8a",
   "metadata": {},
   "outputs": [],
   "source": [
    "\n",
    "\n",
    "#ann hidden layer\n",
    "model.add(Dense(units=128,activation=\"relu\"))\n",
    "\n"
   ]
  },
  {
   "cell_type": "code",
   "execution_count": 43,
   "id": "b4c57c9b",
   "metadata": {},
   "outputs": [],
   "source": [
    "\n",
    "\n",
    "#add output layer\n",
    "model.add(Dense(units=4,activation=\"softmax\"))\n",
    "\n",
    "\n"
   ]
  },
  {
   "cell_type": "code",
   "execution_count": 44,
   "id": "534043c5",
   "metadata": {},
   "outputs": [],
   "source": [
    "\n",
    "model.compile(loss=\"categorical_crossentropy\",optimizer=\"adam\",metrics=\"accuracy\")"
   ]
  },
  {
   "cell_type": "code",
   "execution_count": 45,
   "id": "ac7048e5",
   "metadata": {},
   "outputs": [
    {
     "name": "stdout",
     "output_type": "stream",
     "text": [
      "Epoch 1/5\n",
      "39/39 [==============================] - 23s 546ms/step - loss: 1.2794 - accuracy: 0.4338 - val_loss: 1.0686 - val_accuracy: 0.5625\n",
      "Epoch 2/5\n",
      "39/39 [==============================] - 20s 500ms/step - loss: 0.9521 - accuracy: 0.6341 - val_loss: 0.9321 - val_accuracy: 0.5906\n",
      "Epoch 3/5\n",
      "39/39 [==============================] - 20s 509ms/step - loss: 0.8182 - accuracy: 0.6874 - val_loss: 0.7249 - val_accuracy: 0.7375\n",
      "Epoch 4/5\n",
      "39/39 [==============================] - 20s 501ms/step - loss: 0.7122 - accuracy: 0.7262 - val_loss: 0.5575 - val_accuracy: 0.8000\n",
      "Epoch 5/5\n",
      "39/39 [==============================] - 20s 514ms/step - loss: 0.6556 - accuracy: 0.7528 - val_loss: 0.6289 - val_accuracy: 0.7469\n"
     ]
    },
    {
     "data": {
      "text/plain": [
       "<keras.src.callbacks.History at 0x251f5be2050>"
      ]
     },
     "execution_count": 45,
     "metadata": {},
     "output_type": "execute_result"
    }
   ],
   "source": [
    "model.fit(x_train,steps_per_epoch=39,epochs=5,validation_data=x_test,validation_steps=10)"
   ]
  },
  {
   "cell_type": "code",
   "execution_count": 46,
   "id": "aa4b6d5d",
   "metadata": {},
   "outputs": [
    {
     "name": "stdout",
     "output_type": "stream",
     "text": [
      "Model: \"sequential_1\"\n",
      "_________________________________________________________________\n",
      " Layer (type)                Output Shape              Param #   \n",
      "=================================================================\n",
      " conv2d_1 (Conv2D)           (None, 62, 62, 12)        336       \n",
      "                                                                 \n",
      " max_pooling2d_1 (MaxPoolin  (None, 31, 31, 12)        0         \n",
      " g2D)                                                            \n",
      "                                                                 \n",
      " flatten_1 (Flatten)         (None, 11532)             0         \n",
      "                                                                 \n",
      " dense_2 (Dense)             (None, 128)               1476224   \n",
      "                                                                 \n",
      " dense_3 (Dense)             (None, 4)                 516       \n",
      "                                                                 \n",
      "=================================================================\n",
      "Total params: 1477076 (5.63 MB)\n",
      "Trainable params: 1477076 (5.63 MB)\n",
      "Non-trainable params: 0 (0.00 Byte)\n",
      "_________________________________________________________________\n"
     ]
    }
   ],
   "source": [
    "\n",
    "\n",
    "model.summary()\n",
    "\n",
    "\n",
    "#for convolution layer=no of filters*(input channels*window size+1)\n",
    "#for dense layer =output size*(input size+1)"
   ]
  },
  {
   "cell_type": "code",
   "execution_count": 47,
   "id": "760a025a",
   "metadata": {},
   "outputs": [],
   "source": [
    "\n",
    "model.save(\"animal.h5\")"
   ]
  },
  {
   "cell_type": "code",
   "execution_count": 48,
   "id": "7c2b45fb",
   "metadata": {},
   "outputs": [],
   "source": [
    "#model building\n",
    "#testing the model\n",
    "from tensorflow.keras.models import load_model\n",
    "from tensorflow.keras.preprocessing import image\n",
    "import numpy as np "
   ]
  },
  {
   "cell_type": "code",
   "execution_count": 49,
   "id": "584397d8",
   "metadata": {},
   "outputs": [],
   "source": [
    "import tensorflow as tf"
   ]
  },
  {
   "cell_type": "code",
   "execution_count": 50,
   "id": "dfb5ae82",
   "metadata": {},
   "outputs": [],
   "source": [
    "model=tf.keras.models.load_model(r\"C:\\Users\\HP\\animal.h5\",compile=False)"
   ]
  },
  {
   "cell_type": "code",
   "execution_count": 51,
   "id": "ecae7b6d",
   "metadata": {},
   "outputs": [
    {
     "data": {
      "text/plain": [
       "<keras.src.engine.sequential.Sequential at 0x251f5a6b7d0>"
      ]
     },
     "execution_count": 51,
     "metadata": {},
     "output_type": "execute_result"
    }
   ],
   "source": [
    "model"
   ]
  },
  {
   "cell_type": "code",
   "execution_count": 52,
   "id": "451b0168",
   "metadata": {},
   "outputs": [],
   "source": [
    "\n",
    "img=image.load_img(r\"C:\\Users\\HP\\Downloads\\how-to-draw-an-elephant-thumbnail.jpg\",target_size=(64,64))"
   ]
  },
  {
   "cell_type": "code",
   "execution_count": 53,
   "id": "a93fc29d",
   "metadata": {},
   "outputs": [
    {
     "data": {
      "image/png": "[encoded data removed]",
      "text/plain": [
       "<PIL.Image.Image image mode=RGB size=64x64>"
      ]
     },
     "execution_count": 53,
     "metadata": {},
     "output_type": "execute_result"
    }
   ],
   "source": [
    "img"
   ]
  },
  {
   "cell_type": "code",
   "execution_count": 54,
   "id": "ffec1a50",
   "metadata": {},
   "outputs": [],
   "source": [
    "x=image.img_to_array(img)"
   ]
  },
  {
   "cell_type": "code",
   "execution_count": 55,
   "id": "71902ed8",
   "metadata": {},
   "outputs": [
    {
     "data": {
      "text/plain": [
       "array([[[221., 228., 236.],\n",
       "        [222., 229., 237.],\n",
       "        [221., 228., 236.],\n",
       "        ...,\n",
       "        [230., 231., 236.],\n",
       "        [236., 235., 240.],\n",
       "        [232., 233., 238.]],\n",
       "\n",
       "       [[222., 229., 237.],\n",
       "        [221., 230., 237.],\n",
       "        [222., 229., 237.],\n",
       "        ...,\n",
       "        [231., 235., 238.],\n",
       "        [234., 235., 239.],\n",
       "        [235., 236., 240.]],\n",
       "\n",
       "       [[222., 229., 237.],\n",
       "        [222., 229., 237.],\n",
       "        [222., 229., 237.],\n",
       "        ...,\n",
       "        [234., 235., 239.],\n",
       "        [234., 235., 239.],\n",
       "        [243., 243., 245.]],\n",
       "\n",
       "       ...,\n",
       "\n",
       "       [[ 63.,  73.,   2.],\n",
       "        [ 46.,  55.,   0.],\n",
       "        [161., 169.,  92.],\n",
       "        ...,\n",
       "        [108., 111.,  82.],\n",
       "        [ 22.,  27.,   0.],\n",
       "        [ 49.,  52.,  21.]],\n",
       "\n",
       "       [[ 82.,  93.,  17.],\n",
       "        [ 63.,  74.,   8.],\n",
       "        [ 90.,  98.,  38.],\n",
       "        ...,\n",
       "        [109., 119.,  32.],\n",
       "        [163., 169.,  79.],\n",
       "        [ 19.,  17.,   2.]],\n",
       "\n",
       "       [[156., 157.,  97.],\n",
       "        [ 58.,  63.,   9.],\n",
       "        [ 98., 100.,  50.],\n",
       "        ...,\n",
       "        [116., 109.,  41.],\n",
       "        [ 90.,  94.,   9.],\n",
       "        [123., 122.,  65.]]], dtype=float32)"
      ]
     },
     "execution_count": 55,
     "metadata": {},
     "output_type": "execute_result"
    }
   ],
   "source": [
    "\n",
    "\n",
    "x\n",
    "\n"
   ]
  },
  {
   "cell_type": "code",
   "execution_count": 56,
   "id": "ba0b46e4",
   "metadata": {},
   "outputs": [],
   "source": [
    "x=np.expand_dims(x,axis=0)"
   ]
  },
  {
   "cell_type": "code",
   "execution_count": 57,
   "id": "328e656d",
   "metadata": {},
   "outputs": [
    {
     "data": {
      "text/plain": [
       "4"
      ]
     },
     "execution_count": 57,
     "metadata": {},
     "output_type": "execute_result"
    }
   ],
   "source": [
    "\n",
    "\n",
    "x.ndim\n",
    "\n"
   ]
  },
  {
   "cell_type": "code",
   "execution_count": 58,
   "id": "0dd3a27b",
   "metadata": {},
   "outputs": [
    {
     "data": {
      "text/plain": [
       "(1, 64, 64, 3)"
      ]
     },
     "execution_count": 58,
     "metadata": {},
     "output_type": "execute_result"
    }
   ],
   "source": [
    "\n",
    "\n",
    "x.shape\n",
    "\n"
   ]
  },
  {
   "cell_type": "code",
   "execution_count": 59,
   "id": "c5c0fd28",
   "metadata": {},
   "outputs": [
    {
     "name": "stdout",
     "output_type": "stream",
     "text": [
      "1/1 [==============================] - 0s 175ms/step\n"
     ]
    }
   ],
   "source": [
    "pred=model.predict(x)"
   ]
  },
  {
   "cell_type": "code",
   "execution_count": 60,
   "id": "0e7675d5",
   "metadata": {},
   "outputs": [
    {
     "data": {
      "text/plain": [
       "array([[0., 0., 1., 0.]], dtype=float32)"
      ]
     },
     "execution_count": 60,
     "metadata": {},
     "output_type": "execute_result"
    }
   ],
   "source": [
    "\n",
    "\n",
    "pred\n",
    "\n"
   ]
  },
  {
   "cell_type": "code",
   "execution_count": 61,
   "id": "1e58cbd7",
   "metadata": {},
   "outputs": [],
   "source": [
    "\n",
    "\n",
    "pred_class=np.argmax(pred,axis=1)\n",
    "\n"
   ]
  },
  {
   "cell_type": "code",
   "execution_count": 62,
   "id": "ee1ffb7e",
   "metadata": {},
   "outputs": [
    {
     "data": {
      "text/plain": [
       "2"
      ]
     },
     "execution_count": 62,
     "metadata": {},
     "output_type": "execute_result"
    }
   ],
   "source": [
    "\n",
    "\n",
    "pred_class[0]\n",
    "\n"
   ]
  },
  {
   "cell_type": "code",
   "execution_count": 63,
   "id": "0d8b6837",
   "metadata": {},
   "outputs": [],
   "source": [
    "\n",
    "\n",
    "index=['bears', 'crows', 'elephants', 'rats']\n",
    "result=str(index[pred_class[0]])\n",
    "\n"
   ]
  },
  {
   "cell_type": "code",
   "execution_count": 64,
   "id": "4a1dd2fb",
   "metadata": {},
   "outputs": [
    {
     "data": {
      "text/plain": [
       "'elephants'"
      ]
     },
     "execution_count": 64,
     "metadata": {},
     "output_type": "execute_result"
    }
   ],
   "source": [
    "result"
   ]
  },
  {
   "cell_type": "code",
   "execution_count": 60,
   "id": "ca671e75",
   "metadata": {},
   "outputs": [
    {
     "name": "stdout",
     "output_type": "stream",
     "text": [
      "Requirement already satisfied: flask in c:\\users\\hp\\anaconda3\\lib\\site-packages (2.2.2)\n",
      "Requirement already satisfied: Werkzeug>=2.2.2 in c:\\users\\hp\\anaconda3\\lib\\site-packages (from flask) (2.2.3)\n",
      "Requirement already satisfied: Jinja2>=3.0 in c:\\users\\hp\\anaconda3\\lib\\site-packages (from flask) (3.1.2)\n",
      "Requirement already satisfied: itsdangerous>=2.0 in c:\\users\\hp\\anaconda3\\lib\\site-packages (from flask) (2.0.1)\n",
      "Requirement already satisfied: click>=8.0 in c:\\users\\hp\\anaconda3\\lib\\site-packages (from flask) (8.0.4)\n",
      "Requirement already satisfied: colorama in c:\\users\\hp\\anaconda3\\lib\\site-packages (from click>=8.0->flask) (0.4.6)\n",
      "Requirement already satisfied: MarkupSafe>=2.0 in c:\\users\\hp\\anaconda3\\lib\\site-packages (from Jinja2>=3.0->flask) (2.1.1)\n",
      "Note: you may need to restart the kernel to use updated packages.\n"
     ]
    }
   ],
   "source": [
    "pip install flask"
   ]
  },
  {
   "cell_type": "code",
   "execution_count": null,
   "id": "94e0fbf4",
   "metadata": {},
   "outputs": [],
   "source": []
  },
  {
   "cell_type": "code",
   "execution_count": null,
   "id": "1353ad26",
   "metadata": {},
   "outputs": [],
   "source": []
  },
  {
   "cell_type": "code",
   "execution_count": null,
   "id": "50bb64d5",
   "metadata": {},
   "outputs": [],
   "source": []
  },
  {
   "cell_type": "code",
   "execution_count": null,
   "id": "47fc210b",
   "metadata": {},
   "outputs": [],
   "source": []
  },
  {
   "cell_type": "code",
   "execution_count": null,
   "id": "40ea529a",
   "metadata": {},
   "outputs": [],
   "source": []
  },
  {
   "cell_type": "code",
   "execution_count": null,
   "id": "967fed81",
   "metadata": {},
   "outputs": [],
   "source": []
  }
 ],
 "metadata": {
  "kernelspec": {
   "display_name": "Python 3 (ipykernel)",
   "language": "python",
   "name": "python3"
  },
  "language_info": {
   "codemirror_mode": {
    "name": "ipython",
    "version": 3
   },
   "file_extension": ".py",
   "mimetype": "text/x-python",
   "name": "python",
   "nbconvert_exporter": "python",
   "pygments_lexer": "ipython3",
   "version": "3.11.4"
  }
 },
 "nbformat": 4,
 "nbformat_minor": 5
}
